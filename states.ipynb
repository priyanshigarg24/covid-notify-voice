{
 "metadata": {
  "language_info": {
   "codemirror_mode": {
    "name": "ipython",
    "version": 3
   },
   "file_extension": ".py",
   "mimetype": "text/x-python",
   "name": "python",
   "nbconvert_exporter": "python",
   "pygments_lexer": "ipython3",
   "version": "3.8.5"
  },
  "orig_nbformat": 2,
  "kernelspec": {
   "name": "python3",
   "display_name": "Python 3.8.5 32-bit"
  },
  "metadata": {
   "interpreter": {
    "hash": "5520ebc969a1ff1521403f51be77e956554dece0b03718c2d880e0a3ba7e6267"
   }
  },
  "interpreter": {
   "hash": "5520ebc969a1ff1521403f51be77e956554dece0b03718c2d880e0a3ba7e6267"
  }
 },
 "nbformat": 4,
 "nbformat_minor": 2,
 "cells": [
  {
   "cell_type": "code",
   "execution_count": 1,
   "metadata": {},
   "outputs": [],
   "source": [
    "from plyer import notification\n",
    "import requests\n",
    "from bs4 import BeautifulSoup"
   ]
  },
  {
   "cell_type": "code",
   "execution_count": 16,
   "metadata": {},
   "outputs": [
    {
     "output_type": "stream",
     "name": "stdout",
     "text": [
      "India2,94,39,98980,83421,6393,70,384Maharashtra58,98,55010,69751,6581,08,333Karnataka27,57,3249,78543,04632,788Kerala27,16,65513,83278,44810,975Tamil Nadu23,39,70515,10834,47729,280Andhra Pradesh18,03,0746,95236,50911,882Uttar Pradesh17,02,1725048,33421,735West Bengal14,57,2734,28616,13516,812Delhi14,30,88421375,37724,800Chhattisgarh9,86,50481333,51313,311Rajasthan9,49,37636813,7818,815Odisha8,47,3134,85219,3783,257Gujarat8,19,86649013,0769,991Madhya Pradesh7,87,90933710,7438,534Haryana7,65,52242630,1948,949Bihar7,16,7284327,2389,484Telangana6,02,0891,77117,1083,469Punjab5,86,94796120,97715,503Assam4,57,3303,46314,7793,915Jharkhand3,43,30423910,7615,082Uttarakhand3,36,61646333,3816,928Jammu and Kashmir3,06,63886624,4354,174Himachal Pradesh1,98,31337028,9253,384Goa1,62,04847289,1842,914Puducherry1,12,12644280,4081,677Chandigarh61,0565857,848789Manipur59,32255421,795959Tripura59,08656516,153613Meghalaya41,60150115,693727Arunachal Pradesh31,14829824,819143Nagaland23,5629610,357448Ladakh19,5443871,253197Sikkim18,25716729,494281Mizoram15,26734613,68562Dadra and Nagar Haveli and Daman and Diu10,4626No data4Lakshadweep9,175531,42,40543Andaman and Nicobar Islands7,2431016,682126\n"
     ]
    }
   ],
   "source": [
    "def notifyme(title,message):\n",
    "    notification.notify(\n",
    "        title = title,\n",
    "        message=message,\n",
    "        app_icon= r\"C:\\Users\\priyanshi\\Desktop\\ITproject\\icon.ico\",\n",
    "        timeout=20\n",
    "    )\n",
    "\n",
    "def getdata(url):\n",
    "    r=requests.get(url)\n",
    "    return r.text\n",
    "\n",
    "if __name__ ==\"__main__\":\n",
    "    #notifyme(\"PRIYANSHI\",\"Let's stop this virus\")\n",
    "    myhtmldata= getdata(\"https://news.google.com/covid19/map?hl=en-IN&mid=%2Fm%2F03rk0&gl=IN&ceid=IN%3Aen\")\n",
    "    \n",
    "   \n",
    "    soup=BeautifulSoup(myhtmldata, 'html.parser')\n",
    "    #print(soup.prettify())\n",
    "    for tr in soup.find_all(\"table\"):\n",
    "        mydatastr =tr.get_text()\n",
    "    mydatastr=mydatastr[177:]\n",
    "    print(mydatastr)\n",
    "\n",
    "    "
   ]
  },
  {
   "cell_type": "code",
   "execution_count": 3,
   "metadata": {},
   "outputs": [
    {
     "output_type": "stream",
     "name": "stdout",
     "text": [
      "['2,94,39,989', '80,834', '21,639', '3,70,384', '58,98,550', '10,697', '51,658', '1,08,333', '27,57,324', '9,785', '43,046', '32,788', '27,16,655', '13,832', '78,448', '10,975', '23,39,705', '15,108', '34,477', '29,280', '18,03,074', '6,952', '36,509', '11,882', '17,02,172', '504', '8,334', '21,735', '14,57,273', '4,286', '16,135', '16,812', '14,30,884', '213', '75,377', '24,800', '9,86,504', '813', '33,513', '13,311', '9,49,376', '368', '13,781', '8,815', '8,47,313', '4,852', '19,378', '3,257', '8,19,866', '490', '13,076', '9,991', '7,87,909', '337', '10,743', '8,534', '7,65,522', '426', '30,194', '8,949', '7,16,728', '432', '7,238', '9,484', '6,02,089', '1,771', '17,108', '3,469', '5,86,947', '961', '20,977', '15,503', '4,57,330', '3,463', '14,779', '3,915', '3,43,304', '239', '10,761', '5,082', '3,36,616', '463', '33,381', '6,928', '3,06,638', '866', '24,435', '4,174', '1,98,313', '370', '28,925', '3,384', '1,62,048', '472', '89,184', '2,914', '1,12,126', '442', '80,408', '1,677', '61,056', '585', '7,848', '789', '59,322', '554', '21,795', '959', '59,086', '565', '16,153', '613', '41,601', '501', '15,693', '727', '31,148', '298', '24,819', '143', '23,562', '961', '0,357', '448', '19,544', '387', '1,253', '197', '18,257', '167', '29,494', '281', '15,267', '346', '13,685', '62', '10,462', '6', '4', '9,175', '531', ',42,405', '43', '7,243', '101', '6,682', '126']\n"
     ]
    }
   ],
   "source": [
    "def add(a,b):\n",
    "    return a+b\n",
    "tempno=''\n",
    "var=1\n",
    "Datalist=[]\n",
    "alphabets = 'abcdefghijklmnopqrstuvwxyz ABCDEFGHIJKLMNOPQRSTUVWXYZ'\n",
    "numbers = '1234567890'\n",
    "position = 0\n",
    "loc=0\n",
    "for i in mydatastr:\n",
    "    #if i not in numbers:\n",
    "    if i in alphabets:\n",
    "        #position += 1\n",
    "        if(loc != 0):\n",
    "            Datalist.append(tempno)\n",
    "            var = 1\n",
    "            tempno = ''\n",
    "            loc = 0\n",
    "    #elif i in numbers:\n",
    "     #   tempno = add(tempno,i)\n",
    "      #  var += 1\n",
    "    elif i in numbers:\n",
    "            loc = 1\n",
    "            if(var == 3):\n",
    "                #x=Tempdata[position+1]\n",
    "                if i in numbers:\n",
    "                    tempno = add(tempno,i)\n",
    "                    Datalist.append(tempno)\n",
    "                    tempno = ''\n",
    "                    var = 1\n",
    "                else:\n",
    "                    #y=Tempdata[position+2]\n",
    "                    #if y in numbers:\n",
    "                    tempno = add(tempno,i)\n",
    "                    var=1\n",
    "            else:\n",
    "                tempno = add(tempno,i)\n",
    "                var += 1\n",
    "    else:\n",
    "        tempno = add(tempno,i)\n",
    "        var = 1\n",
    "    position +=1\n",
    "\n",
    "while '' in Datalist:\n",
    "    Datalist.remove('')\n",
    "print(Datalist)"
   ]
  },
  {
   "cell_type": "code",
   "execution_count": 4,
   "metadata": {},
   "outputs": [
    {
     "output_type": "stream",
     "name": "stdout",
     "text": [
      "['India', 'Maharashtra', 'Karnataka', 'Kerala', 'Tamil Nadu', 'Andhra Pradesh', 'Uttar Pradesh', 'West Bengal', 'Delhi', 'Chhattisgarh', 'Rajasthan', 'Odisha', 'Gujarat', 'Madhya Pradesh', 'Haryana', 'Bihar', 'Telangana', 'Punjab', 'Assam', 'Jharkhand', 'Uttarakhand', 'Jammu and Kashmir', 'Himachal Pradesh', 'Goa', 'Puducherry', 'Chandigarh', 'Manipur', 'Tripura', 'Meghalaya', 'Arunachal Pradesh', 'Nagaland', 'Ladakh', 'Sikkim', 'Mizoram', 'Dadra and Nagar Haveli and Daman and Diu', 'Lakshadweep', 'Andaman and Nicobar Islands']\n"
     ]
    }
   ],
   "source": [
    "tempno=''\n",
    "var=1\n",
    "states=[]\n",
    "alphabets = 'abcdefghijklmnopqrstuvwxyz ABCDEFGHIJKLMNOPQRSTUVWXYZ'\n",
    "numbers = '1234567890'\n",
    "position = 0\n",
    "loc=0\n",
    "for i in mydatastr:\n",
    "    #if i not in numbers:\n",
    "    if i in numbers:\n",
    "        #position += 1\n",
    "        if(loc != 0):\n",
    "            states.append(tempno)\n",
    "            var = 1\n",
    "            tempno = ''\n",
    "            loc = 0\n",
    "    #elif i in numbers:\n",
    "     #   tempno = add(tempno,i)\n",
    "      #  var += 1\n",
    "    elif i in alphabets:\n",
    "            loc = 1\n",
    "            if(var == 3):\n",
    "                #x=Tempdata[position+1]\n",
    "                if i in numbers:\n",
    "                    tempno = add(tempno,i)\n",
    "                    states.append(tempno)\n",
    "                    tempno = ''\n",
    "                    var = 1\n",
    "                else:\n",
    "                    #y=Tempdata[position+2]\n",
    "                    #if y in numbers:\n",
    "                    tempno = add(tempno,i)\n",
    "                    var=1\n",
    "            else:\n",
    "                tempno = add(tempno,i)\n",
    "                var += 1\n",
    "    else:\n",
    "        continue\n",
    "\n",
    "while 'No data' in states:\n",
    "    states.remove('No data')\n",
    "print(states)"
   ]
  },
  {
   "cell_type": "code",
   "execution_count": 5,
   "metadata": {},
   "outputs": [
    {
     "output_type": "stream",
     "name": "stdout",
     "text": [
      "['2,94,39,989', '80,834', '21,639', '3,70,384', '58,98,550', '10,697', '51,658', '1,08,333', '27,57,324', '9,785', '43,046', '32,788', '27,16,655', '13,832', '78,448', '10,975', '23,39,705', '15,108', '34,477', '29,280', '18,03,074', '6,952', '36,509', '11,882', '17,02,172', '504', '8,334', '21,735', '14,57,273', '4,286', '16,135', '16,812', '14,30,884', '213', '75,377', '24,800', '9,86,504', '813', '33,513', '13,311', '9,49,376', '368', '13,781', '8,815', '8,47,313', '4,852', '19,378', '3,257', '8,19,866', '490', '13,076', '9,991', '7,87,909', '337', '10,743', '8,534', '7,65,522', '426', '30,194', '8,949', '7,16,728', '432', '7,238', '9,484', '6,02,089', '1,771', '17,108', '3,469', '5,86,947', '961', '20,977', '15,503', '4,57,330', '3,463', '14,779', '3,915', '3,43,304', '239', '10,761', '5,082', '3,36,616', '463', '33,381', '6,928', '3,06,638', '866', '24,435', '4,174', '1,98,313', '370', '28,925', '3,384', '1,62,048', '472', '89,184', '2,914', '1,12,126', '442', '80,408', '1,677', '61,056', '585', '7,848', '789', '59,322', '554', '21,795', '959', '59,086', '565', '16,153', '613', '41,601', '501', '15,693', '727', '31,148', '298', '24,819', '143', '23,562', '961', '0,357', '448', '19,544', '387', '1,253', '197', '18,257', '167', '29,494', '281', '15,267', '346', '13,685', '62', '10,462', '6', '4', '9,175', '531', ',42,405', '43', '7,243', '101', '6,682', '126']\n"
     ]
    },
    {
     "output_type": "execute_result",
     "data": {
      "text/plain": [
       "147"
      ]
     },
     "metadata": {},
     "execution_count": 5
    }
   ],
   "source": [
    "print(Datalist)\n",
    "len(Datalist)"
   ]
  },
  {
   "cell_type": "code",
   "execution_count": 6,
   "metadata": {},
   "outputs": [
    {
     "output_type": "stream",
     "name": "stdout",
     "text": [
      "['India', 'Maharashtra', 'Karnataka', 'Kerala', 'Tamil Nadu', 'Andhra Pradesh', 'Uttar Pradesh', 'West Bengal', 'Delhi', 'Chhattisgarh', 'Rajasthan', 'Odisha', 'Gujarat', 'Madhya Pradesh', 'Haryana', 'Bihar', 'Telangana', 'Punjab', 'Assam', 'Jharkhand', 'Uttarakhand', 'Jammu and Kashmir', 'Himachal Pradesh', 'Goa', 'Puducherry', 'Chandigarh', 'Manipur', 'Tripura', 'Meghalaya', 'Arunachal Pradesh', 'Nagaland', 'Ladakh', 'Sikkim', 'Mizoram', 'Dadra and Nagar Haveli and Daman and Diu', 'Lakshadweep', 'Andaman and Nicobar Islands']\n"
     ]
    },
    {
     "output_type": "execute_result",
     "data": {
      "text/plain": [
       "37"
      ]
     },
     "metadata": {},
     "execution_count": 6
    }
   ],
   "source": [
    "print(states)\n",
    "len(states)"
   ]
  },
  {
   "cell_type": "code",
   "execution_count": 7,
   "metadata": {},
   "outputs": [
    {
     "output_type": "execute_result",
     "data": {
      "text/plain": [
       "[['India', '2,94,39,989', '80,834', '21,639', '3,70,384'],\n",
       " ['Maharashtra', '58,98,550', '10,697', '51,658', '1,08,333'],\n",
       " ['Karnataka', '27,57,324', '9,785', '43,046', '32,788'],\n",
       " ['Kerala', '27,16,655', '13,832', '78,448', '10,975'],\n",
       " ['Tamil Nadu', '23,39,705', '15,108', '34,477', '29,280'],\n",
       " ['Andhra Pradesh', '18,03,074', '6,952', '36,509', '11,882'],\n",
       " ['Uttar Pradesh', '17,02,172', '504', '8,334', '21,735'],\n",
       " ['West Bengal', '14,57,273', '4,286', '16,135', '16,812'],\n",
       " ['Delhi', '14,30,884', '213', '75,377', '24,800'],\n",
       " ['Chhattisgarh', '9,86,504', '813', '33,513', '13,311'],\n",
       " ['Rajasthan', '9,49,376', '368', '13,781', '8,815'],\n",
       " ['Odisha', '8,47,313', '4,852', '19,378', '3,257'],\n",
       " ['Gujarat', '8,19,866', '490', '13,076', '9,991'],\n",
       " ['Madhya Pradesh', '7,87,909', '337', '10,743', '8,534'],\n",
       " ['Haryana', '7,65,522', '426', '30,194', '8,949'],\n",
       " ['Bihar', '7,16,728', '432', '7,238', '9,484'],\n",
       " ['Telangana', '6,02,089', '1,771', '17,108', '3,469'],\n",
       " ['Punjab', '5,86,947', '961', '20,977', '15,503'],\n",
       " ['Assam', '4,57,330', '3,463', '14,779', '3,915'],\n",
       " ['Jharkhand', '3,43,304', '239', '10,761', '5,082'],\n",
       " ['Uttarakhand', '3,36,616', '463', '33,381', '6,928'],\n",
       " ['Jammu and Kashmir', '3,06,638', '866', '24,435', '4,174'],\n",
       " ['Himachal Pradesh', '1,98,313', '370', '28,925', '3,384'],\n",
       " ['Goa', '1,62,048', '472', '89,184', '2,914'],\n",
       " ['Puducherry', '1,12,126', '442', '80,408', '1,677'],\n",
       " ['Chandigarh', '61,056', '585', '7,848', '789'],\n",
       " ['Manipur', '59,322', '554', '21,795', '959'],\n",
       " ['Tripura', '59,086', '565', '16,153', '613'],\n",
       " ['Meghalaya', '41,601', '501', '15,693', '727'],\n",
       " ['Arunachal Pradesh', '31,148', '298', '24,819', '143'],\n",
       " ['Nagaland', '23,562', '961', '0,357', '448'],\n",
       " ['Ladakh', '19,544', '387', '1,253', '197'],\n",
       " ['Sikkim', '18,257', '167', '29,494', '281'],\n",
       " ['Mizoram', '15,267', '346', '13,685', '62'],\n",
       " ['Dadra and Nagar Haveli and Daman and Diu', '10,462', '6', '4', '9,175'],\n",
       " ['Lakshadweep', '531', ',42,405', '43', '7,243'],\n",
       " ['Andaman and Nicobar Islands', '101', '6,682', '126'],\n",
       " 37]"
      ]
     },
     "metadata": {},
     "execution_count": 7
    }
   ],
   "source": [
    "l=[0,1,2,3,4,5,6,7,8,9,10,11,12,13,14,15,16,17,18,19,20,21,22,23,24,25,26,27,28,29,30,31,32,33,34,35,36,37]\n",
    "# for i in l:\n",
    "#     #print(i)\n",
    "#     i=0\n",
    "#     l[i]=states[i]+ Datalist[i]+Datalist[i+1]+Datalist[i+2]\n",
    "\n",
    "#     i=i+1\n",
    "# print(l)\n",
    "l[0]=states[0:1]+Datalist[0:4]\n",
    "l[1]=states[1:2]+Datalist[4:8]\n",
    "l[2]=states[2:3]+Datalist[8:12]\n",
    "l[3]=states[3:4]+Datalist[12:16]\n",
    "l[4]=states[4:5]+Datalist[16:20]\n",
    "l[5]=states[5:6]+Datalist[20:24]\n",
    "l[6]=states[6:7]+Datalist[24:28]\n",
    "l[7]=states[7:8]+Datalist[28:32]\n",
    "l[8]=states[8:9]+Datalist[32:36]\n",
    "l[9]=states[9:10]+Datalist[36:40]\n",
    "l[10]=states[10:11]+Datalist[40:44]\n",
    "l[11]=states[11:12]+Datalist[44:48]\n",
    "l[12]=states[12:13]+Datalist[48:52]\n",
    "l[13]=states[13:14]+Datalist[52:56]\n",
    "l[14]=states[14:15]+Datalist[56:60]\n",
    "l[15]=states[15:16]+Datalist[60:64]\n",
    "l[16]=states[16:17]+Datalist[64:68]\n",
    "l[17]=states[17:18]+Datalist[68:72]\n",
    "l[18]=states[18:19]+Datalist[72:76]\n",
    "l[19]=states[19:20]+Datalist[76:80]\n",
    "l[20]=states[20:21]+Datalist[80:84]\n",
    "l[21]=states[21:22]+Datalist[84:88]\n",
    "l[22]=states[22:23]+Datalist[88:92]\n",
    "l[23]=states[23:24]+Datalist[92:96]\n",
    "l[24]=states[24:25]+Datalist[96:100]\n",
    "l[25]=states[25:26]+Datalist[100:104]\n",
    "l[26]=states[26:27]+Datalist[104:108]\n",
    "l[27]=states[27:28]+Datalist[108:112]\n",
    "l[28]=states[28:29]+Datalist[112:116]\n",
    "l[29]=states[29:30]+Datalist[116:120]\n",
    "l[30]=states[30:31]+Datalist[120:124]\n",
    "l[31]=states[31:32]+Datalist[124:128]\n",
    "l[32]=states[32:33]+Datalist[128:132]\n",
    "l[33]=states[33:34]+Datalist[132:136]\n",
    "l[34]=states[34:35]+Datalist[136:140]\n",
    "l[35]=states[35:36]+Datalist[140:144]\n",
    "l[36]=states[36:37]+Datalist[144:148]\n",
    "\n",
    "l"
   ]
  },
  {
   "cell_type": "code",
   "execution_count": 8,
   "metadata": {},
   "outputs": [
    {
     "output_type": "execute_result",
     "data": {
      "text/plain": [
       "38"
      ]
     },
     "metadata": {},
     "execution_count": 8
    }
   ],
   "source": [
    "len(l)"
   ]
  },
  {
   "cell_type": "code",
   "execution_count": 9,
   "metadata": {},
   "outputs": [],
   "source": [
    "mystates=['Arunachal Pradesh','Delhi','Haryana','Punjab','Goa']"
   ]
  },
  {
   "cell_type": "code",
   "execution_count": 17,
   "metadata": {},
   "outputs": [
    {
     "output_type": "stream",
     "name": "stdout",
     "text": [
      "['Delhi', '14,30,884', '213', '75,377', '24,800']\n['Haryana', '7,65,522', '426', '30,194', '8,949']\n['Punjab', '5,86,947', '961', '20,977', '15,503']\n['Goa', '1,62,048', '472', '89,184', '2,914']\n['Arunachal Pradesh', '31,148', '298', '24,819', '143']\n"
     ]
    },
    {
     "output_type": "error",
     "ename": "TypeError",
     "evalue": "'int' object is not subscriptable",
     "traceback": [
      "\u001b[1;31m---------------------------------------------------------------------------\u001b[0m",
      "\u001b[1;31mTypeError\u001b[0m                                 Traceback (most recent call last)",
      "\u001b[1;32m<ipython-input-17-41c999f3c3eb>\u001b[0m in \u001b[0;36m<module>\u001b[1;34m\u001b[0m\n\u001b[0;32m      1\u001b[0m \u001b[1;32mfor\u001b[0m \u001b[0mitem\u001b[0m \u001b[1;32min\u001b[0m \u001b[0ml\u001b[0m\u001b[1;33m:\u001b[0m\u001b[1;33m\u001b[0m\u001b[1;33m\u001b[0m\u001b[0m\n\u001b[0;32m      2\u001b[0m     \u001b[0mcases\u001b[0m\u001b[1;33m=\u001b[0m\u001b[0mitem\u001b[0m\u001b[1;33m\u001b[0m\u001b[1;33m\u001b[0m\u001b[0m\n\u001b[1;32m----> 3\u001b[1;33m     \u001b[1;32mif\u001b[0m \u001b[0mcases\u001b[0m\u001b[1;33m[\u001b[0m\u001b[1;36m0\u001b[0m\u001b[1;33m]\u001b[0m \u001b[1;32min\u001b[0m \u001b[0mmystates\u001b[0m\u001b[1;33m:\u001b[0m\u001b[1;33m\u001b[0m\u001b[1;33m\u001b[0m\u001b[0m\n\u001b[0m\u001b[0;32m      4\u001b[0m         \u001b[0mmycases\u001b[0m \u001b[1;33m=\u001b[0m \u001b[0mitem\u001b[0m\u001b[1;33m\u001b[0m\u001b[1;33m\u001b[0m\u001b[0m\n\u001b[0;32m      5\u001b[0m         \u001b[0mprint\u001b[0m\u001b[1;33m(\u001b[0m\u001b[0mmycases\u001b[0m\u001b[1;33m)\u001b[0m\u001b[1;33m\u001b[0m\u001b[1;33m\u001b[0m\u001b[0m\n",
      "\u001b[1;31mTypeError\u001b[0m: 'int' object is not subscriptable"
     ]
    }
   ],
   "source": [
    "for item in l:\n",
    "    cases=item\n",
    "    if cases[0] in mystates:\n",
    "        mycases = item\n",
    "        print(mycases)\n",
    "        nTitle=\"Cases of Covid-19: \"\n",
    "        nText=f\"{cases[0]}\\nTotal: {cases[1]}\\nNew Cases: {cases[2]}\\nDeaths: {cases[4]}\"\n",
    "        notifyme(nTitle, nText)\n",
    "\n",
    "    #cases=item.split('\\n')\n"
   ]
  },
  {
   "cell_type": "code",
   "execution_count": 87,
   "metadata": {},
   "outputs": [
    {
     "output_type": "execute_result",
     "data": {
      "text/plain": [
       "['Punjab', '5,83,474', '1,393', '20,853', '15,293']"
      ]
     },
     "metadata": {},
     "execution_count": 87
    }
   ],
   "source": [
    "mycases"
   ]
  },
  {
   "cell_type": "code",
   "execution_count": null,
   "metadata": {},
   "outputs": [],
   "source": []
  }
 ]
}